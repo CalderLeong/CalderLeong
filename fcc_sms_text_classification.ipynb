{
  "cells": [
    {
      "cell_type": "markdown",
      "metadata": {
        "id": "view-in-github",
        "colab_type": "text"
      },
      "source": [
        "<a href=\"https://colab.research.google.com/github/CalderLeong/CalderLeong/blob/main/fcc_sms_text_classification.ipynb\" target=\"_parent\"><img src=\"https://colab.research.google.com/assets/colab-badge.svg\" alt=\"Open In Colab\"/></a>"
      ]
    },
    {
      "cell_type": "code",
      "execution_count": null,
      "metadata": {
        "id": "8RZOuS9LWQvv",
        "collapsed": true
      },
      "outputs": [],
      "source": [
        "# import libraries\n",
        "try:\n",
        "  # %tensorflow_version only exists in Colab.\n",
        "  !pip install tf-nightly\n",
        "except Exception:\n",
        "  pass\n",
        "import tensorflow as tf\n",
        "import pandas as pd\n",
        "from tensorflow import keras\n",
        "!pip install tensorflow-datasets\n",
        "import tensorflow_datasets as tfds\n",
        "import numpy as np\n",
        "import matplotlib.pyplot as plt\n",
        "\n",
        "print(tf.__version__)"
      ]
    },
    {
      "cell_type": "code",
      "execution_count": null,
      "metadata": {
        "id": "lMHwYXHXCar3",
        "collapsed": true
      },
      "outputs": [],
      "source": [
        "# get data files\n",
        "!wget https://cdn.freecodecamp.org/project-data/sms/train-data.tsv\n",
        "!wget https://cdn.freecodecamp.org/project-data/sms/valid-data.tsv\n",
        "\n",
        "train_file_path = \"train-data.tsv\"\n",
        "test_file_path = \"valid-data.tsv\""
      ]
    },
    {
      "cell_type": "code",
      "execution_count": null,
      "metadata": {
        "id": "zOMKywn4zReN",
        "collapsed": true
      },
      "outputs": [],
      "source": [
        "# Load data\n",
        "train_data = pd.read_csv(\"train-data.tsv\", sep=\"\\t\", header=None, names=[\"type\", \"msg\"])\n",
        "test_data = pd.read_csv(\"valid-data.tsv\", sep=\"\\t\", header=None, names=[\"type\", \"msg\"])\n",
        "\n",
        "# Consistent label mapping\n",
        "label_map = {\"ham\": 0, \"spam\": 1}\n",
        "train_data[\"type\"] = train_data[\"type\"].map(label_map)\n",
        "test_data[\"type\"] = test_data[\"type\"].map(label_map)\n",
        "\n",
        "# Extract labels **after mapping**\n",
        "train_labels = train_data[\"type\"].values\n",
        "test_labels = test_data[\"type\"].values\n",
        "train_messages = train_data[\"msg\"].values\n",
        "test_messages = test_data[\"msg\"].values\n",
        "\n",
        "# Text vectorization\n",
        "max_features = 1000\n",
        "max_len = 100\n",
        "\n",
        "vectorize_layer = keras.layers.TextVectorization(\n",
        "    max_tokens=max_features,\n",
        "    output_mode='int',\n",
        "    output_sequence_length=max_len\n",
        ")\n",
        "vectorize_layer.adapt(train_messages)\n",
        "\n",
        "# Build the model (with optional dense layer for improvement)\n",
        "model = keras.Sequential([\n",
        "    vectorize_layer,\n",
        "    keras.layers.Embedding(max_features + 1, 32),\n",
        "    keras.layers.Dropout(0.2),\n",
        "    keras.layers.GlobalAveragePooling1D(),\n",
        "    keras.layers.Dense(16, activation='relu'),  # added for better performance\n",
        "    keras.layers.Dropout(0.2),\n",
        "    keras.layers.Dense(1, activation='sigmoid')\n",
        "])\n",
        "\n",
        "# Compile model\n",
        "model.compile(\n",
        "    loss=keras.losses.BinaryCrossentropy(),\n",
        "    optimizer=keras.optimizers.Adam(),\n",
        "    metrics=['accuracy']\n",
        ")\n",
        "\n",
        "# Train model\n",
        "epochs = 20\n",
        "history = model.fit(\n",
        "    train_messages,\n",
        "    train_labels,\n",
        "    epochs=epochs,\n",
        "    validation_data=(test_messages, test_labels),\n",
        "    verbose=2\n",
        ")\n"
      ]
    },
    {
      "cell_type": "code",
      "execution_count": null,
      "metadata": {
        "id": "J9tD9yACG6M9"
      },
      "outputs": [],
      "source": [
        "def predict_message(pred_text, threshold=0.25):  # changed threshold to 0.25\n",
        "    pred_text = tf.convert_to_tensor([pred_text])\n",
        "    pred = model.predict(pred_text)\n",
        "    return [float(pred[0][0]), \"ham\" if pred[0][0] < threshold else \"spam\"]\n",
        "def test_predictions_with_threshold(threshold=0.25):\n",
        "    test_messages = [\n",
        "        \"how are you doing today\",\n",
        "        \"sale today! to stop texts call 98912460324\",\n",
        "        \"i dont want to go. can we try it a different day? available sat\",\n",
        "        \"our new mobile video service is live. just install on your phone to start watching.\",\n",
        "        \"you have won £1000 cash! call to claim your prize.\",\n",
        "        \"i'll bring it tomorrow. don't forget the milk.\",\n",
        "        \"wow, is your arm alright. that happened to me one time too\"\n",
        "    ]\n",
        "\n",
        "    test_answers = [\"ham\", \"spam\", \"ham\", \"spam\", \"spam\", \"ham\", \"ham\"]\n",
        "    passed = True\n",
        "\n",
        "    for msg, ans in zip(test_messages, test_answers):\n",
        "        prediction = predict_message(msg, threshold=threshold)\n",
        "        print(f\"Message: {msg}\")\n",
        "        print(f\"Expected: {ans} | Predicted: {prediction[1]} ({prediction[0]:.4f})\")\n",
        "        print(\"-\" * 50)\n",
        "        if prediction[1] != ans:\n",
        "            passed = False\n",
        "\n",
        "    if passed:\n",
        "        print(\"✅ You passed the challenge. Great job!\")\n",
        "    else:\n",
        "        print(\"❌ You haven't passed yet. Keep trying.\")\n",
        "\n",
        "# Run this\n",
        "test_predictions_with_threshold()\n"
      ]
    },
    {
      "cell_type": "code",
      "execution_count": null,
      "metadata": {
        "id": "Dxotov85SjsC"
      },
      "outputs": [],
      "source": [
        "# Run this cell to test your function and model. Do not modify contents.\n",
        "def test_predictions():\n",
        "  test_messages = [\"how are you doing today\",\n",
        "                   \"sale today! to stop texts call 98912460324\",\n",
        "                   \"i dont want to go. can we try it a different day? available sat\",\n",
        "                   \"our new mobile video service is live. just install on your phone to start watching.\",\n",
        "                   \"you have won £1000 cash! call to claim your prize.\",\n",
        "                   \"i'll bring it tomorrow. don't forget the milk.\",\n",
        "                   \"wow, is your arm alright. that happened to me one time too\"\n",
        "                  ]\n",
        "\n",
        "  test_answers = [\"ham\", \"spam\", \"ham\", \"spam\", \"spam\", \"ham\", \"ham\"]\n",
        "  passed = True\n",
        "\n",
        "  for msg, ans in zip(test_messages, test_answers):\n",
        "    prediction = predict_message(msg)\n",
        "    if prediction[1] != ans:\n",
        "      passed = False\n",
        "\n",
        "  if passed:\n",
        "    print(\"You passed the challenge. Great job!\")\n",
        "  else:\n",
        "    print(\"You haven't passed yet. Keep trying.\")\n",
        "\n",
        "test_predictions()\n"
      ]
    }
  ],
  "metadata": {
    "colab": {
      "name": "fcc_sms_text_classification.ipynb",
      "private_outputs": true,
      "provenance": [],
      "toc_visible": true,
      "include_colab_link": true
    },
    "kernelspec": {
      "display_name": "Python 3",
      "name": "python3"
    },
    "language_info": {}
  },
  "nbformat": 4,
  "nbformat_minor": 0
}